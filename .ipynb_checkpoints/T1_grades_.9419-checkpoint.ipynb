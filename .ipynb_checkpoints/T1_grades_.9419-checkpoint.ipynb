{
 "cells": [
  {
   "cell_type": "code",
   "execution_count": 28,
   "metadata": {
    "collapsed": true,
    "deletable": true,
    "editable": true
   },
   "outputs": [],
   "source": [
    "%matplotlib inline\n",
    "%config InlineBackend.figure_format = 'retina'\n",
    "\n",
    "import numpy as np\n",
    "import pandas as pd\n",
    "import matplotlib.pyplot as plt"
   ]
  },
  {
   "cell_type": "code",
   "execution_count": 29,
   "metadata": {
    "collapsed": true,
    "deletable": true,
    "editable": true
   },
   "outputs": [],
   "source": [
    "data_path = 'rct.csv'\n",
    "\n",
    "df = pd.read_csv(data_path)"
   ]
  },
  {
   "cell_type": "code",
   "execution_count": 30,
   "metadata": {
    "collapsed": false,
    "deletable": true,
    "editable": true
   },
   "outputs": [
    {
     "data": {
      "text/html": [
       "<div>\n",
       "<table border=\"1\" class=\"dataframe\">\n",
       "  <thead>\n",
       "    <tr style=\"text-align: right;\">\n",
       "      <th></th>\n",
       "      <th>grade</th>\n",
       "      <th>label</th>\n",
       "      <th>rct</th>\n",
       "      <th>tsi</th>\n",
       "      <th>stfi</th>\n",
       "      <th>caliper</th>\n",
       "      <th>moisture</th>\n",
       "      <th>basisweight</th>\n",
       "      <th>cull</th>\n",
       "    </tr>\n",
       "  </thead>\n",
       "  <tbody>\n",
       "    <tr>\n",
       "      <th>0</th>\n",
       "      <td>NL050550</td>\n",
       "      <td>4/16/2017 2:36</td>\n",
       "      <td>123.0</td>\n",
       "      <td>4.88</td>\n",
       "      <td>NaN</td>\n",
       "      <td>15.56</td>\n",
       "      <td>0.00</td>\n",
       "      <td>0.0</td>\n",
       "      <td>119.5</td>\n",
       "    </tr>\n",
       "    <tr>\n",
       "      <th>1</th>\n",
       "      <td>NL050550</td>\n",
       "      <td>4/16/2017 4:09</td>\n",
       "      <td>127.0</td>\n",
       "      <td>5.15</td>\n",
       "      <td>NaN</td>\n",
       "      <td>15.56</td>\n",
       "      <td>0.00</td>\n",
       "      <td>0.0</td>\n",
       "      <td>119.5</td>\n",
       "    </tr>\n",
       "    <tr>\n",
       "      <th>2</th>\n",
       "      <td>NL250740</td>\n",
       "      <td>1/7/2017 15:55</td>\n",
       "      <td>151.0</td>\n",
       "      <td>4.53</td>\n",
       "      <td>NaN</td>\n",
       "      <td>19.24</td>\n",
       "      <td>0.00</td>\n",
       "      <td>0.0</td>\n",
       "      <td>149.5</td>\n",
       "    </tr>\n",
       "    <tr>\n",
       "      <th>3</th>\n",
       "      <td>NL110550</td>\n",
       "      <td>2/19/2017 16:20</td>\n",
       "      <td>121.0</td>\n",
       "      <td>4.53</td>\n",
       "      <td>18.1</td>\n",
       "      <td>9.38</td>\n",
       "      <td>6.21</td>\n",
       "      <td>0.0</td>\n",
       "      <td>119.5</td>\n",
       "    </tr>\n",
       "    <tr>\n",
       "      <th>4</th>\n",
       "      <td>NL050550</td>\n",
       "      <td>4/16/2017 0:59</td>\n",
       "      <td>123.0</td>\n",
       "      <td>#DIV/0!</td>\n",
       "      <td>NaN</td>\n",
       "      <td>15.67</td>\n",
       "      <td>#DIV/0!</td>\n",
       "      <td>0.0</td>\n",
       "      <td>119.5</td>\n",
       "    </tr>\n",
       "  </tbody>\n",
       "</table>\n",
       "</div>"
      ],
      "text/plain": [
       "      grade            label    rct      tsi  stfi  caliper moisture  \\\n",
       "0  NL050550   4/16/2017 2:36  123.0     4.88   NaN    15.56     0.00   \n",
       "1  NL050550   4/16/2017 4:09  127.0     5.15   NaN    15.56     0.00   \n",
       "2  NL250740   1/7/2017 15:55  151.0     4.53   NaN    19.24     0.00   \n",
       "3  NL110550  2/19/2017 16:20  121.0     4.53  18.1     9.38     6.21   \n",
       "4  NL050550   4/16/2017 0:59  123.0  #DIV/0!   NaN    15.67  #DIV/0!   \n",
       "\n",
       "   basisweight   cull  \n",
       "0          0.0  119.5  \n",
       "1          0.0  119.5  \n",
       "2          0.0  149.5  \n",
       "3          0.0  119.5  \n",
       "4          0.0  119.5  "
      ]
     },
     "execution_count": 30,
     "metadata": {},
     "output_type": "execute_result"
    }
   ],
   "source": [
    "df.head()"
   ]
  },
  {
   "cell_type": "code",
   "execution_count": null,
   "metadata": {
    "collapsed": false,
    "deletable": true,
    "editable": true
   },
   "outputs": [],
   "source": []
  },
  {
   "cell_type": "code",
   "execution_count": 31,
   "metadata": {
    "collapsed": false,
    "deletable": true,
    "editable": true
   },
   "outputs": [],
   "source": [
    "# drops weird moisture values\n",
    "df = df[df.moisture.str.contains('#DIV/0!') == False]\n",
    "# drops empty and 0 value rows\n",
    "df = df[np.isfinite(df['stfi'])]"
   ]
  },
  {
   "cell_type": "code",
   "execution_count": 32,
   "metadata": {
    "collapsed": false,
    "deletable": true,
    "editable": true
   },
   "outputs": [
    {
     "data": {
      "text/html": [
       "<div>\n",
       "<table border=\"1\" class=\"dataframe\">\n",
       "  <thead>\n",
       "    <tr style=\"text-align: right;\">\n",
       "      <th></th>\n",
       "      <th>grade</th>\n",
       "      <th>label</th>\n",
       "      <th>rct</th>\n",
       "      <th>tsi</th>\n",
       "      <th>stfi</th>\n",
       "      <th>caliper</th>\n",
       "      <th>moisture</th>\n",
       "      <th>basisweight</th>\n",
       "      <th>cull</th>\n",
       "    </tr>\n",
       "  </thead>\n",
       "  <tbody>\n",
       "    <tr>\n",
       "      <th>3</th>\n",
       "      <td>NL110550</td>\n",
       "      <td>2/19/2017 16:20</td>\n",
       "      <td>121.0</td>\n",
       "      <td>4.53</td>\n",
       "      <td>18.10</td>\n",
       "      <td>9.38</td>\n",
       "      <td>6.21</td>\n",
       "      <td>0.00</td>\n",
       "      <td>119.5</td>\n",
       "    </tr>\n",
       "    <tr>\n",
       "      <th>7</th>\n",
       "      <td>NL050550</td>\n",
       "      <td>1/19/2017 14:27</td>\n",
       "      <td>122.0</td>\n",
       "      <td>4.06</td>\n",
       "      <td>19.15</td>\n",
       "      <td>10.82</td>\n",
       "      <td>7.06</td>\n",
       "      <td>26.16</td>\n",
       "      <td>119.5</td>\n",
       "    </tr>\n",
       "    <tr>\n",
       "      <th>8</th>\n",
       "      <td>NL050350</td>\n",
       "      <td>1/3/2017 12:40</td>\n",
       "      <td>76.0</td>\n",
       "      <td>4.56</td>\n",
       "      <td>19.81</td>\n",
       "      <td>10.60</td>\n",
       "      <td>6.74</td>\n",
       "      <td>34.89</td>\n",
       "      <td>69.5</td>\n",
       "    </tr>\n",
       "    <tr>\n",
       "      <th>9</th>\n",
       "      <td>NL050350</td>\n",
       "      <td>1/3/2017 10:48</td>\n",
       "      <td>74.0</td>\n",
       "      <td>4.60</td>\n",
       "      <td>19.30</td>\n",
       "      <td>10.64</td>\n",
       "      <td>7.14</td>\n",
       "      <td>35.26</td>\n",
       "      <td>69.5</td>\n",
       "    </tr>\n",
       "    <tr>\n",
       "      <th>10</th>\n",
       "      <td>NL050350</td>\n",
       "      <td>1/3/2017 14:32</td>\n",
       "      <td>77.0</td>\n",
       "      <td>4.63</td>\n",
       "      <td>20.11</td>\n",
       "      <td>10.53</td>\n",
       "      <td>7.04</td>\n",
       "      <td>35.28</td>\n",
       "      <td>69.5</td>\n",
       "    </tr>\n",
       "  </tbody>\n",
       "</table>\n",
       "</div>"
      ],
      "text/plain": [
       "       grade            label    rct   tsi   stfi  caliper moisture  \\\n",
       "3   NL110550  2/19/2017 16:20  121.0  4.53  18.10     9.38     6.21   \n",
       "7   NL050550  1/19/2017 14:27  122.0  4.06  19.15    10.82     7.06   \n",
       "8   NL050350   1/3/2017 12:40   76.0  4.56  19.81    10.60     6.74   \n",
       "9   NL050350   1/3/2017 10:48   74.0  4.60  19.30    10.64     7.14   \n",
       "10  NL050350   1/3/2017 14:32   77.0  4.63  20.11    10.53     7.04   \n",
       "\n",
       "    basisweight   cull  \n",
       "3          0.00  119.5  \n",
       "7         26.16  119.5  \n",
       "8         34.89   69.5  \n",
       "9         35.26   69.5  \n",
       "10        35.28   69.5  "
      ]
     },
     "execution_count": 32,
     "metadata": {},
     "output_type": "execute_result"
    }
   ],
   "source": [
    "df.head()"
   ]
  },
  {
   "cell_type": "code",
   "execution_count": 33,
   "metadata": {
    "collapsed": false,
    "deletable": true,
    "editable": true
   },
   "outputs": [],
   "source": [
    "df['tsi'] = df['tsi'].astype(float)\n",
    "df['moisture'] = df['moisture'].astype(float)"
   ]
  },
  {
   "cell_type": "code",
   "execution_count": 34,
   "metadata": {
    "collapsed": false,
    "deletable": true,
    "editable": true
   },
   "outputs": [
    {
     "data": {
      "text/plain": [
       "<matplotlib.axes._subplots.AxesSubplot at 0x1a6871d73c8>"
      ]
     },
     "execution_count": 34,
     "metadata": {},
     "output_type": "execute_result"
    },
    {
     "data": {
      "image/png": "[encoded data removed]",
      "text/plain": [
       "<matplotlib.figure.Figure at 0x1a684b68ba8>"
      ]
     },
     "metadata": {
      "image/png": {
       "height": 263,
       "width": 377
      }
     },
     "output_type": "display_data"
    }
   ],
   "source": [
    "df[:100].plot(x='stfi', y='rct')"
   ]
  },
  {
   "cell_type": "code",
   "execution_count": 35,
   "metadata": {
    "collapsed": false,
    "deletable": true,
    "editable": true
   },
   "outputs": [
    {
     "data": {
      "text/html": [
       "<div>\n",
       "<table border=\"1\" class=\"dataframe\">\n",
       "  <thead>\n",
       "    <tr style=\"text-align: right;\">\n",
       "      <th></th>\n",
       "      <th>rct</th>\n",
       "      <th>tsi</th>\n",
       "      <th>stfi</th>\n",
       "      <th>caliper</th>\n",
       "      <th>moisture</th>\n",
       "      <th>basisweight</th>\n",
       "      <th>cull</th>\n",
       "      <th>grade_NL050350</th>\n",
       "      <th>grade_NL050420</th>\n",
       "      <th>grade_NL050550</th>\n",
       "      <th>grade_NL050740</th>\n",
       "      <th>grade_NL110550</th>\n",
       "      <th>grade_NL110740</th>\n",
       "      <th>grade_NL110850</th>\n",
       "      <th>grade_NL250550</th>\n",
       "      <th>grade_NL250740</th>\n",
       "      <th>grade_NL550740</th>\n",
       "    </tr>\n",
       "  </thead>\n",
       "  <tbody>\n",
       "    <tr>\n",
       "      <th>3</th>\n",
       "      <td>121.0</td>\n",
       "      <td>4.53</td>\n",
       "      <td>18.10</td>\n",
       "      <td>9.38</td>\n",
       "      <td>6.21</td>\n",
       "      <td>0.00</td>\n",
       "      <td>119.5</td>\n",
       "      <td>0</td>\n",
       "      <td>0</td>\n",
       "      <td>0</td>\n",
       "      <td>0</td>\n",
       "      <td>1</td>\n",
       "      <td>0</td>\n",
       "      <td>0</td>\n",
       "      <td>0</td>\n",
       "      <td>0</td>\n",
       "      <td>0</td>\n",
       "    </tr>\n",
       "    <tr>\n",
       "      <th>7</th>\n",
       "      <td>122.0</td>\n",
       "      <td>4.06</td>\n",
       "      <td>19.15</td>\n",
       "      <td>10.82</td>\n",
       "      <td>7.06</td>\n",
       "      <td>26.16</td>\n",
       "      <td>119.5</td>\n",
       "      <td>0</td>\n",
       "      <td>0</td>\n",
       "      <td>1</td>\n",
       "      <td>0</td>\n",
       "      <td>0</td>\n",
       "      <td>0</td>\n",
       "      <td>0</td>\n",
       "      <td>0</td>\n",
       "      <td>0</td>\n",
       "      <td>0</td>\n",
       "    </tr>\n",
       "    <tr>\n",
       "      <th>8</th>\n",
       "      <td>76.0</td>\n",
       "      <td>4.56</td>\n",
       "      <td>19.81</td>\n",
       "      <td>10.60</td>\n",
       "      <td>6.74</td>\n",
       "      <td>34.89</td>\n",
       "      <td>69.5</td>\n",
       "      <td>1</td>\n",
       "      <td>0</td>\n",
       "      <td>0</td>\n",
       "      <td>0</td>\n",
       "      <td>0</td>\n",
       "      <td>0</td>\n",
       "      <td>0</td>\n",
       "      <td>0</td>\n",
       "      <td>0</td>\n",
       "      <td>0</td>\n",
       "    </tr>\n",
       "    <tr>\n",
       "      <th>9</th>\n",
       "      <td>74.0</td>\n",
       "      <td>4.60</td>\n",
       "      <td>19.30</td>\n",
       "      <td>10.64</td>\n",
       "      <td>7.14</td>\n",
       "      <td>35.26</td>\n",
       "      <td>69.5</td>\n",
       "      <td>1</td>\n",
       "      <td>0</td>\n",
       "      <td>0</td>\n",
       "      <td>0</td>\n",
       "      <td>0</td>\n",
       "      <td>0</td>\n",
       "      <td>0</td>\n",
       "      <td>0</td>\n",
       "      <td>0</td>\n",
       "      <td>0</td>\n",
       "    </tr>\n",
       "    <tr>\n",
       "      <th>10</th>\n",
       "      <td>77.0</td>\n",
       "      <td>4.63</td>\n",
       "      <td>20.11</td>\n",
       "      <td>10.53</td>\n",
       "      <td>7.04</td>\n",
       "      <td>35.28</td>\n",
       "      <td>69.5</td>\n",
       "      <td>1</td>\n",
       "      <td>0</td>\n",
       "      <td>0</td>\n",
       "      <td>0</td>\n",
       "      <td>0</td>\n",
       "      <td>0</td>\n",
       "      <td>0</td>\n",
       "      <td>0</td>\n",
       "      <td>0</td>\n",
       "      <td>0</td>\n",
       "    </tr>\n",
       "  </tbody>\n",
       "</table>\n",
       "</div>"
      ],
      "text/plain": [
       "      rct   tsi   stfi  caliper  moisture  basisweight   cull  grade_NL050350  \\\n",
       "3   121.0  4.53  18.10     9.38      6.21         0.00  119.5               0   \n",
       "7   122.0  4.06  19.15    10.82      7.06        26.16  119.5               0   \n",
       "8    76.0  4.56  19.81    10.60      6.74        34.89   69.5               1   \n",
       "9    74.0  4.60  19.30    10.64      7.14        35.26   69.5               1   \n",
       "10   77.0  4.63  20.11    10.53      7.04        35.28   69.5               1   \n",
       "\n",
       "    grade_NL050420  grade_NL050550  grade_NL050740  grade_NL110550  \\\n",
       "3                0               0               0               1   \n",
       "7                0               1               0               0   \n",
       "8                0               0               0               0   \n",
       "9                0               0               0               0   \n",
       "10               0               0               0               0   \n",
       "\n",
       "    grade_NL110740  grade_NL110850  grade_NL250550  grade_NL250740  \\\n",
       "3                0               0               0               0   \n",
       "7                0               0               0               0   \n",
       "8                0               0               0               0   \n",
       "9                0               0               0               0   \n",
       "10               0               0               0               0   \n",
       "\n",
       "    grade_NL550740  \n",
       "3                0  \n",
       "7                0  \n",
       "8                0  \n",
       "9                0  \n",
       "10               0  "
      ]
     },
     "execution_count": 35,
     "metadata": {},
     "output_type": "execute_result"
    }
   ],
   "source": [
    "# make binary numbers for grades\n",
    "dummy_fields = ['grade']\n",
    "for each in dummy_fields:\n",
    "    dummies = pd.get_dummies(df[each], prefix=each, drop_first=False)\n",
    "    df = pd.concat([df, dummies], axis=1)\n",
    "    \n",
    "fields_to_drop = ['label', 'grade']\n",
    "data = df.drop(fields_to_drop, axis=1)\n",
    "data.head()"
   ]
  },
  {
   "cell_type": "code",
   "execution_count": 36,
   "metadata": {
    "collapsed": false,
    "deletable": true,
    "editable": true
   },
   "outputs": [
    {
     "data": {
      "text/html": [
       "<div>\n",
       "<table border=\"1\" class=\"dataframe\">\n",
       "  <thead>\n",
       "    <tr style=\"text-align: right;\">\n",
       "      <th></th>\n",
       "      <th>rct</th>\n",
       "      <th>tsi</th>\n",
       "      <th>stfi</th>\n",
       "      <th>caliper</th>\n",
       "      <th>moisture</th>\n",
       "      <th>basisweight</th>\n",
       "      <th>cull</th>\n",
       "      <th>grade_NL050350</th>\n",
       "      <th>grade_NL050420</th>\n",
       "      <th>grade_NL050550</th>\n",
       "      <th>grade_NL050740</th>\n",
       "      <th>grade_NL110550</th>\n",
       "      <th>grade_NL110740</th>\n",
       "      <th>grade_NL110850</th>\n",
       "      <th>grade_NL250550</th>\n",
       "      <th>grade_NL250740</th>\n",
       "      <th>grade_NL550740</th>\n",
       "    </tr>\n",
       "  </thead>\n",
       "  <tbody>\n",
       "    <tr>\n",
       "      <th>3</th>\n",
       "      <td>-0.408414</td>\n",
       "      <td>-0.847915</td>\n",
       "      <td>-2.318256</td>\n",
       "      <td>-2.536936</td>\n",
       "      <td>-0.419331</td>\n",
       "      <td>-5.673515</td>\n",
       "      <td>-0.220737</td>\n",
       "      <td>0</td>\n",
       "      <td>0</td>\n",
       "      <td>0</td>\n",
       "      <td>0</td>\n",
       "      <td>1</td>\n",
       "      <td>0</td>\n",
       "      <td>0</td>\n",
       "      <td>0</td>\n",
       "      <td>0</td>\n",
       "      <td>0</td>\n",
       "    </tr>\n",
       "    <tr>\n",
       "      <th>7</th>\n",
       "      <td>-0.358274</td>\n",
       "      <td>-2.567359</td>\n",
       "      <td>-2.099481</td>\n",
       "      <td>-2.001165</td>\n",
       "      <td>1.284747</td>\n",
       "      <td>-3.042524</td>\n",
       "      <td>-0.220737</td>\n",
       "      <td>0</td>\n",
       "      <td>0</td>\n",
       "      <td>1</td>\n",
       "      <td>0</td>\n",
       "      <td>0</td>\n",
       "      <td>0</td>\n",
       "      <td>0</td>\n",
       "      <td>0</td>\n",
       "      <td>0</td>\n",
       "      <td>0</td>\n",
       "    </tr>\n",
       "    <tr>\n",
       "      <th>8</th>\n",
       "      <td>-2.664719</td>\n",
       "      <td>-0.738164</td>\n",
       "      <td>-1.961965</td>\n",
       "      <td>-2.083019</td>\n",
       "      <td>0.643212</td>\n",
       "      <td>-2.164521</td>\n",
       "      <td>-2.851408</td>\n",
       "      <td>1</td>\n",
       "      <td>0</td>\n",
       "      <td>0</td>\n",
       "      <td>0</td>\n",
       "      <td>0</td>\n",
       "      <td>0</td>\n",
       "      <td>0</td>\n",
       "      <td>0</td>\n",
       "      <td>0</td>\n",
       "      <td>0</td>\n",
       "    </tr>\n",
       "    <tr>\n",
       "      <th>9</th>\n",
       "      <td>-2.764999</td>\n",
       "      <td>-0.591828</td>\n",
       "      <td>-2.068227</td>\n",
       "      <td>-2.068136</td>\n",
       "      <td>1.445131</td>\n",
       "      <td>-2.127309</td>\n",
       "      <td>-2.851408</td>\n",
       "      <td>1</td>\n",
       "      <td>0</td>\n",
       "      <td>0</td>\n",
       "      <td>0</td>\n",
       "      <td>0</td>\n",
       "      <td>0</td>\n",
       "      <td>0</td>\n",
       "      <td>0</td>\n",
       "      <td>0</td>\n",
       "      <td>0</td>\n",
       "    </tr>\n",
       "    <tr>\n",
       "      <th>10</th>\n",
       "      <td>-2.614579</td>\n",
       "      <td>-0.482076</td>\n",
       "      <td>-1.899458</td>\n",
       "      <td>-2.109063</td>\n",
       "      <td>1.244651</td>\n",
       "      <td>-2.125298</td>\n",
       "      <td>-2.851408</td>\n",
       "      <td>1</td>\n",
       "      <td>0</td>\n",
       "      <td>0</td>\n",
       "      <td>0</td>\n",
       "      <td>0</td>\n",
       "      <td>0</td>\n",
       "      <td>0</td>\n",
       "      <td>0</td>\n",
       "      <td>0</td>\n",
       "      <td>0</td>\n",
       "    </tr>\n",
       "  </tbody>\n",
       "</table>\n",
       "</div>"
      ],
      "text/plain": [
       "         rct       tsi      stfi   caliper  moisture  basisweight      cull  \\\n",
       "3  -0.408414 -0.847915 -2.318256 -2.536936 -0.419331    -5.673515 -0.220737   \n",
       "7  -0.358274 -2.567359 -2.099481 -2.001165  1.284747    -3.042524 -0.220737   \n",
       "8  -2.664719 -0.738164 -1.961965 -2.083019  0.643212    -2.164521 -2.851408   \n",
       "9  -2.764999 -0.591828 -2.068227 -2.068136  1.445131    -2.127309 -2.851408   \n",
       "10 -2.614579 -0.482076 -1.899458 -2.109063  1.244651    -2.125298 -2.851408   \n",
       "\n",
       "    grade_NL050350  grade_NL050420  grade_NL050550  grade_NL050740  \\\n",
       "3                0               0               0               0   \n",
       "7                0               0               1               0   \n",
       "8                1               0               0               0   \n",
       "9                1               0               0               0   \n",
       "10               1               0               0               0   \n",
       "\n",
       "    grade_NL110550  grade_NL110740  grade_NL110850  grade_NL250550  \\\n",
       "3                1               0               0               0   \n",
       "7                0               0               0               0   \n",
       "8                0               0               0               0   \n",
       "9                0               0               0               0   \n",
       "10               0               0               0               0   \n",
       "\n",
       "    grade_NL250740  grade_NL550740  \n",
       "3                0               0  \n",
       "7                0               0  \n",
       "8                0               0  \n",
       "9                0               0  \n",
       "10               0               0  "
      ]
     },
     "execution_count": 36,
     "metadata": {},
     "output_type": "execute_result"
    }
   ],
   "source": [
    "\n",
    "quant_features = ['rct','tsi', 'stfi','caliper','moisture','basisweight','cull']\n",
    "# Store scalings in a dictionary so we can convert back later\n",
    "scaled_features = {}\n",
    "for each in quant_features:\n",
    "    mean, std = (data[each]).mean(), data[each].std()\n",
    "    scaled_features[each] = [mean, std]\n",
    "    data.loc[:, each] = (data[each] - mean)/std\n",
    "data.head()"
   ]
  },
  {
   "cell_type": "code",
   "execution_count": 37,
   "metadata": {
    "collapsed": false,
    "deletable": true,
    "editable": true
   },
   "outputs": [],
   "source": [
    "\n",
    "test_data = data[1000:]\n",
    "\n",
    "data = data[:1000]\n",
    "\n",
    "target_fields = ['rct']\n",
    "features, targets = data.drop(target_fields, axis=1), data[target_fields]\n",
    "test_features, test_targets = test_data.drop(target_fields, axis=1), test_data[target_fields]"
   ]
  },
  {
   "cell_type": "code",
   "execution_count": 38,
   "metadata": {
    "collapsed": true,
    "deletable": true,
    "editable": true
   },
   "outputs": [],
   "source": [
    "\n",
    "train_features, train_targets = features[:900], targets[:900]\n",
    "val_features, val_targets = features[900:], targets[900:]\n",
    "#features.head()"
   ]
  },
  {
   "cell_type": "code",
   "execution_count": 39,
   "metadata": {
    "collapsed": true,
    "deletable": true,
    "editable": true
   },
   "outputs": [],
   "source": [
    "class NeuralNetwork(object):\n",
    "    def __init__(self, input_nodes, hidden_nodes, output_nodes, learning_rate):\n",
    "        # Set number of nodes in input, hidden and output layers.\n",
    "        self.input_nodes = input_nodes\n",
    "        self.hidden_nodes = hidden_nodes\n",
    "        self.output_nodes = output_nodes\n",
    "\n",
    "        # Initialize weights\n",
    "        self.weights_input_to_hidden = np.random.normal(0.0, self.input_nodes**-0.5, \n",
    "                                       (self.input_nodes, self.hidden_nodes))\n",
    "\n",
    "        self.weights_hidden_to_output = np.random.normal(0.0, self.hidden_nodes**-0.5, \n",
    "                                       (self.hidden_nodes, self.output_nodes))\n",
    "        self.lr = learning_rate\n",
    "        \n",
    "        #### TODO: Set self.activation_function to your implemented sigmoid function ####\n",
    "        #\n",
    "        # Note: in Python, you can define a function with a lambda expression,\n",
    "        # as shown below.\n",
    "        self.activation_function = lambda x : 1/(1 + np.exp(-x))   # Replace 0 with your sigmoid calculation.\n",
    "        \n",
    "        ### If the lambda code above is not something you're familiar with,\n",
    "        # You can uncomment out the following three lines and put your \n",
    "        # implementation there instead.\n",
    "        #\n",
    "        #def sigmoid(x):\n",
    "        #    return 0  # Replace 0 with your sigmoid calculation here\n",
    "        #self.activation_function = sigmoid\n",
    "                    \n",
    "    \n",
    "    def train(self, features, targets):\n",
    "        ''' Train the network on batch of features and targets. \n",
    "        \n",
    "            Arguments\n",
    "            ---------\n",
    "            \n",
    "            features: 2D array, each row is one data record, each column is a feature\n",
    "            targets: 1D array of target values\n",
    "        \n",
    "        '''\n",
    "        n_records = features.shape[0]\n",
    "        delta_weights_i_h = np.zeros(self.weights_input_to_hidden.shape)\n",
    "        delta_weights_h_o = np.zeros(self.weights_hidden_to_output.shape)\n",
    "        for X, y in zip(features, targets):\n",
    "            #### Implement the forward pass here ####\n",
    "            ### Forward pass ###\n",
    "            # TODO: Hidden layer - Replace these values with your calculations.\n",
    "            hidden_inputs = np.dot(X,self.weights_input_to_hidden) # signals into hidden layer\n",
    "            hidden_outputs = self.activation_function(hidden_inputs) # signals from hidden layer\n",
    "            \n",
    "            # TODO: Output layer - Replace these values with your calculations.\n",
    "            final_inputs = np.dot(hidden_outputs,self.weights_hidden_to_output) # signals into final output layer\n",
    "            final_outputs = final_inputs # signals from final output layer'this\n",
    "            '''\n",
    "            print('X: ' + str(X))\n",
    "            print('y: '+ str(y))\n",
    "            print('weights in to hidden: ' + str(self.weights_input_to_hidden))\n",
    "            print('hidden input: '+ str(hidden_inputs))\n",
    "            print('hidden outputs: ' + str(hidden_outputs))\n",
    "            print('weights hidden to out: ' + str(self.weights_hidden_to_output))\n",
    "            print('final inputs: ' + str(final_inputs))\n",
    "            print('final outputs: ' + str(final_outputs)) '''\n",
    "            \n",
    "            #### Implement the backward pass here ####\n",
    "            ### Backward pass ###\n",
    "\n",
    "            # TODO: Output error - Replace this value with your calculations.\n",
    "            error = y - final_outputs # Output layer error is the difference between desired target and actual output.\n",
    "            '''print('error: ' + str(error))'''\n",
    "            \n",
    "            \n",
    "            output_error_term = error * 1\n",
    "            #print('output error term: ' + str(output_error_term))\n",
    "            # TODO: Calculate the hidden layer's contribution to the error\n",
    "            \n",
    "\n",
    "            # TODO: Backpropagated error terms - Replace these values with your calculations.\n",
    "            #hidden_error = hidden_outputs * (1 - hidden_outputs)\n",
    "            #hidden_error_term = np.dot(hidden_error, self.weights_hidden_to_output) * output_error_term\n",
    "            hidden_error = np.dot(self.weights_hidden_to_output, error)\n",
    "            hidden_error_term = hidden_error * hidden_outputs * (1- hidden_outputs)\n",
    "            #print('hidden error term: ' + str(hidden_error_term))\n",
    "            \n",
    "            \n",
    "            # Weight step (input to hidden)\n",
    "            delta_weights_i_h += hidden_error_term * X[:,None]\n",
    "            #print('delta in to hidden: ' + str(delta_weights_i_h))\n",
    "            \n",
    "            \n",
    "            # Weight step (hidden to output)\n",
    "            hidden_outputs = hidden_outputs[:,None]\n",
    "            delta_weights_h_o += output_error_term * hidden_outputs\n",
    "            #print('delta hidden to out: ' + str(delta_weights_h_o))\n",
    "\n",
    "        # TODO: Update the weights - Replace these values with your calculations.\n",
    "        self.weights_hidden_to_output += self.lr * delta_weights_h_o/n_records # update hidden-to-output weights with gradient descent step\n",
    "        self.weights_input_to_hidden += self.lr * delta_weights_i_h/n_records # update input-to-hidden weights with gradient descent step\n",
    " \n",
    "    def run(self, features):\n",
    "        ''' Run a forward pass through the network with input features \n",
    "        \n",
    "            Arguments\n",
    "            ---------\n",
    "            features: 1D array of feature values\n",
    "        '''\n",
    "        \n",
    "        #### Implement the forward pass here ####\n",
    "        # TODO: Hidden layer - replace these values with the appropriate calculations.\n",
    "        hidden_inputs = np.dot(features,self.weights_input_to_hidden) # signals into hidden layer\n",
    "        hidden_outputs = self.activation_function(hidden_inputs) # signals from hidden layer\n",
    "        \n",
    "        # TODO: Output layer - Replace these values with the appropriate calculations.\n",
    "        final_inputs = np.dot(hidden_outputs,self.weights_hidden_to_output) # signals into final output layer\n",
    "        final_outputs = (final_inputs) # signals from final output layer \n",
    "        \n",
    "        return final_outputs"
   ]
  },
  {
   "cell_type": "code",
   "execution_count": 40,
   "metadata": {
    "collapsed": true,
    "deletable": true,
    "editable": true
   },
   "outputs": [],
   "source": [
    "def MSE(y, Y):\n",
    "    return np.mean((y-Y)**2)"
   ]
  },
  {
   "cell_type": "code",
   "execution_count": 87,
   "metadata": {
    "collapsed": false,
    "deletable": true,
    "editable": true
   },
   "outputs": [
    {
     "name": "stdout",
     "output_type": "stream",
     "text": [
      "Progress: 100.0% ... Training loss: 0.048 ... Validation loss: 0.055"
     ]
    }
   ],
   "source": [
    "import sys\n",
    "\n",
    "### Set the hyperparameters here ###\n",
    "iterations = 2000\n",
    "learning_rate = 0.001\n",
    "hidden_nodes = 3200\n",
    "output_nodes = 1\n",
    "\n",
    "N_i = train_features.shape[1]\n",
    "network = NeuralNetwork(N_i, hidden_nodes, output_nodes, learning_rate)\n",
    "\n",
    "losses = {'train':[], 'validation':[]}\n",
    "for ii in range(iterations):\n",
    "    # Go through a random batch of 128 records from the training data set\n",
    "    batch = np.random.choice(train_features.index, size=128)\n",
    "    X, y = train_features.ix[batch].values, train_targets.ix[batch]['rct']\n",
    "                             \n",
    "    network.train(X, y)\n",
    "    \n",
    "    # Printing out the training progress\n",
    "    train_loss = MSE(network.run(train_features).T, train_targets['rct'].values)\n",
    "    val_loss = MSE(network.run(val_features).T, val_targets['rct'].values)\n",
    "    sys.stdout.write(\"\\rProgress: {:2.1f}\".format(100 * ii/float(iterations)) \\\n",
    "                     + \"% ... Training loss: \" + str(train_loss)[:5] \\\n",
    "                     + \" ... Validation loss: \" + str(val_loss)[:5])\n",
    "    sys.stdout.flush()\n",
    "    \n",
    "    losses['train'].append(train_loss)\n",
    "    losses['validation'].append(val_loss)"
   ]
  },
  {
   "cell_type": "code",
   "execution_count": 88,
   "metadata": {
    "collapsed": false,
    "deletable": true,
    "editable": true
   },
   "outputs": [
    {
     "data": {
      "image/png": "[encoded data removed]",
      "text/plain": [
       "<matplotlib.figure.Figure at 0x1a687839d30>"
      ]
     },
     "metadata": {
      "image/png": {
       "height": 250,
       "width": 373
      }
     },
     "output_type": "display_data"
    }
   ],
   "source": [
    "plt.plot(losses['train'], label='Training loss')\n",
    "plt.plot(losses['validation'], label='Validation loss')\n",
    "plt.legend()\n",
    "_ = plt.ylim()"
   ]
  },
  {
   "cell_type": "code",
   "execution_count": 89,
   "metadata": {
    "collapsed": false,
    "deletable": true,
    "editable": true
   },
   "outputs": [
    {
     "data": {
      "text/plain": [
       "<matplotlib.legend.Legend at 0x1a68c19ef60>"
      ]
     },
     "execution_count": 89,
     "metadata": {},
     "output_type": "execute_result"
    },
    {
     "data": {
      "image/png": "[encoded data removed]",
      "text/plain": [
       "<matplotlib.figure.Figure at 0x1a68c1451d0>"
      ]
     },
     "metadata": {
      "image/png": {
       "height": 250,
       "width": 490
      }
     },
     "output_type": "display_data"
    }
   ],
   "source": [
    "fig, ax = plt.subplots(figsize=(8,4))\n",
    "\n",
    "mean, std = scaled_features['rct']\n",
    "predictions = network.run(test_features).T*std + mean\n",
    "ax.plot(predictions[0], label='Prediction')\n",
    "ax.plot((test_targets['rct']*std + mean).values, label='Data')\n",
    "ax.set_xlim(right=len(predictions))\n",
    "ax.legend()\n",
    "\n",
    "#dates = pd.to_datetime(rides.ix[test_data.index]['dteday'])\n",
    "#dates = dates.apply(lambda d: d.strftime('%b %d'))\n",
    "#ax.set_xticks(np.arange(len(dates))[12::24])\n",
    "#_ = ax.set_xticklabels(dates[12::24], rotation=45)"
   ]
  },
  {
   "cell_type": "code",
   "execution_count": 90,
   "metadata": {
    "collapsed": false,
    "deletable": true,
    "editable": true
   },
   "outputs": [
    {
     "name": "stdout",
     "output_type": "stream",
     "text": [
      "[[-0.00733339]\n",
      " [ 0.00711638]\n",
      " [ 0.01144142]\n",
      " ..., \n",
      " [ 0.01124162]\n",
      " [ 0.00158796]\n",
      " [-0.03444768]]\n"
     ]
    }
   ],
   "source": [
    "print(network.weights_hidden_to_output)\n",
    "#print(network.weights_input_to_hidden)"
   ]
  },
  {
   "cell_type": "code",
   "execution_count": 91,
   "metadata": {
    "collapsed": false,
    "deletable": true,
    "editable": true
   },
   "outputs": [],
   "source": [
    "#predictions = network.run(test_features).T*std + mean\n",
    "#print(predictions)"
   ]
  },
  {
   "cell_type": "code",
   "execution_count": 92,
   "metadata": {
    "collapsed": false,
    "deletable": true,
    "editable": true
   },
   "outputs": [],
   "source": [
    "mean, std = scaled_features['rct']\n",
    "xs = []\n",
    "ys = []\n",
    "value = []\n",
    "testfeatures = features.reset_index(drop=True)\n",
    "testTargets = targets.reset_index(drop=True)\n",
    "\n",
    "for index, row in features.iterrows():\n",
    "    prediction = network.run(row).T*std+mean\n",
    "    xs.append(prediction)\n",
    "    #print(target)\n",
    "\n",
    "ys = testTargets['rct'].T*std+mean"
   ]
  },
  {
   "cell_type": "code",
   "execution_count": 93,
   "metadata": {
    "collapsed": false,
    "deletable": true,
    "editable": true
   },
   "outputs": [
    {
     "data": {
      "image/png": "[encoded data removed]",
      "text/plain": [
       "<matplotlib.figure.Figure at 0x1a68c12f978>"
      ]
     },
     "metadata": {
      "image/png": {
       "height": 250,
       "width": 377
      }
     },
     "output_type": "display_data"
    },
    {
     "name": "stdout",
     "output_type": "stream",
     "text": [
      "r squared value:\n",
      "0.941925364602\n"
     ]
    }
   ],
   "source": [
    "from sklearn import linear_model\n",
    "#train model on data\n",
    "body_reg = linear_model.LinearRegression()\n",
    "body_reg.fit(xs, ys)\n",
    "\n",
    "#visualize results\n",
    "plt.scatter(xs, ys)\n",
    "plt.plot(xs, body_reg.predict(xs))\n",
    "plt.show()\n",
    "print('r squared value:')\n",
    "print(body_reg.score(xs,ys))\n",
    "    \n",
    "    "
   ]
  },
  {
   "cell_type": "code",
   "execution_count": null,
   "metadata": {
    "collapsed": false,
    "deletable": true,
    "editable": true
   },
   "outputs": [],
   "source": []
  },
  {
   "cell_type": "code",
   "execution_count": null,
   "metadata": {
    "collapsed": true,
    "deletable": true,
    "editable": true
   },
   "outputs": [],
   "source": []
  }
 ],
 "metadata": {
  "kernelspec": {
   "display_name": "Python 3",
   "language": "python",
   "name": "python3"
  },
  "language_info": {
   "codemirror_mode": {
    "name": "ipython",
    "version": 3
   },
   "file_extension": ".py",
   "mimetype": "text/x-python",
   "name": "python",
   "nbconvert_exporter": "python",
   "pygments_lexer": "ipython3",
   "version": "3.5.3"
  }
 },
 "nbformat": 4,
 "nbformat_minor": 2
}
