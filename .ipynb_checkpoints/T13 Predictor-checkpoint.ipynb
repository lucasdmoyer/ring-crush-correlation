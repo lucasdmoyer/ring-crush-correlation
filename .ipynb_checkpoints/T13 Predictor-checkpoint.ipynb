{
 "cells": [
  {
   "cell_type": "code",
   "execution_count": 1,
   "metadata": {
    "collapsed": true,
    "deletable": true,
    "editable": true
   },
   "outputs": [],
   "source": [
    "import numpy as np\n",
    "import pandas as pd\n",
    "import matplotlib.pyplot as plt\n",
    "import pickle"
   ]
  },
  {
   "cell_type": "code",
   "execution_count": 3,
   "metadata": {
    "collapsed": false,
    "deletable": true,
    "editable": true
   },
   "outputs": [],
   "source": [
    "class NeuralNetwork(object):\n",
    "    def __init__(self, input_nodes, hidden_nodes, output_nodes, learning_rate):\n",
    "        # Set number of nodes in input, hidden and output layers.\n",
    "        self.input_nodes = input_nodes\n",
    "        self.hidden_nodes = hidden_nodes\n",
    "        self.output_nodes = output_nodes\n",
    "\n",
    "        # Initialize weights\n",
    "        self.weights_input_to_hidden = np.random.normal(0.0, self.input_nodes**-0.5, \n",
    "                                       (self.input_nodes, self.hidden_nodes))\n",
    "\n",
    "        self.weights_hidden_to_output = np.random.normal(0.0, self.hidden_nodes**-0.5, \n",
    "                                       (self.hidden_nodes, self.output_nodes))\n",
    "        self.lr = learning_rate\n",
    "        \n",
    "        self.activation_function = lambda x : 1/(1 + np.exp(-x))   # Replace 0 with your sigmoid calculation.\n",
    "        \n",
    "                    \n",
    "    \n",
    "    def train(self, features, targets):\n",
    "\n",
    "        n_records = features.shape[0]\n",
    "        delta_weights_i_h = np.zeros(self.weights_input_to_hidden.shape)\n",
    "        delta_weights_h_o = np.zeros(self.weights_hidden_to_output.shape)\n",
    "        for X, y in zip(features, targets):\n",
    "            hidden_inputs = np.dot(X,self.weights_input_to_hidden) # signals into hidden layer\n",
    "            hidden_outputs = self.activation_function(hidden_inputs) # signals from hidden layer\n",
    "            \n",
    "            final_inputs = np.dot(hidden_outputs,self.weights_hidden_to_output) # signals into final output layer\n",
    "            final_outputs = final_inputs # signals from final output layer'this\n",
    "            \n",
    "            #### Implement the backward pass here ####\n",
    "            ### Backward pass ###\n",
    "\n",
    "            error = y - final_outputs # Output layer error is the difference between desired target and actual output.\n",
    "\n",
    "            \n",
    "            output_error_term = error * 1\n",
    "\n",
    "            hidden_error = np.dot(self.weights_hidden_to_output, error)\n",
    "            hidden_error_term = hidden_error * hidden_outputs * (1- hidden_outputs)\n",
    "\n",
    "            delta_weights_i_h += hidden_error_term * X[:,None]\n",
    "         \n",
    "            # Weight step (hidden to output)\n",
    "            hidden_outputs = hidden_outputs[:,None]\n",
    "            delta_weights_h_o += output_error_term * hidden_outputs\n",
    "            #print('delta hidden to out: ' + str(delta_weights_h_o))\n",
    "        self.weights_hidden_to_output += self.lr * delta_weights_h_o/n_records # update hidden-to-output weights with gradient descent step\n",
    "        self.weights_input_to_hidden += self.lr * delta_weights_i_h/n_records # update input-to-hidden weights with gradient descent step\n",
    " \n",
    "    def run(self, features):\n",
    "\n",
    "        hidden_inputs = np.dot(features,self.weights_input_to_hidden) # signals into hidden layer\n",
    "        hidden_outputs = self.activation_function(hidden_inputs) # signals from hidden layer\n",
    "        \n",
    "        final_inputs = np.dot(hidden_outputs,self.weights_hidden_to_output) # signals into final output layer\n",
    "        final_outputs = (final_inputs) # signals from final output layer \n",
    "        \n",
    "        return final_outputs"
   ]
  },
  {
   "cell_type": "code",
   "execution_count": 4,
   "metadata": {
    "collapsed": false,
    "deletable": true,
    "editable": true
   },
   "outputs": [],
   "source": [
    "learning_rate = 0.00\n",
    "hidden_nodes = 3200\n",
    "output_nodes = 1\n",
    "\n",
    "N_i = 6\n",
    "network = NeuralNetwork(N_i, hidden_nodes, output_nodes, learning_rate)"
   ]
  },
  {
   "cell_type": "code",
   "execution_count": 5,
   "metadata": {
    "collapsed": false,
    "deletable": true,
    "editable": true
   },
   "outputs": [],
   "source": [
    "import json\n",
    "\n",
    "weights_in = []\n",
    "with open('t3weight_in_no_grades', 'rb') as f:\n",
    "    weights_in = pickle.load(f)\n",
    "    \n",
    "weights_out = []\n",
    "with open('t3weight_out_no_grades', 'rb') as f:\n",
    "    weights_out = pickle.load(f)\n",
    "scaled_features = {}    \n",
    "with open('t3variables.json', 'r') as f:\n",
    "    try:\n",
    "        scaled_features = json.load(f)\n",
    "    # if the file is empty the ValueError will be thrown\n",
    "    except ValueError:\n",
    "        scaled_features = {}\n",
    "        \n",
    "network.weights_input_to_hidden = weights_in\n",
    "network.weights_hidden_to_output = weights_out"
   ]
  },
  {
   "cell_type": "code",
   "execution_count": 6,
   "metadata": {
    "collapsed": false,
    "deletable": true,
    "editable": true
   },
   "outputs": [
    {
     "name": "stdout",
     "output_type": "stream",
     "text": [
      "Enter a basisweight: 33\n",
      "Enter a caliper: 10\n",
      "Enter a cull low: 33\n",
      "Enter a moisture: 10\n",
      "Enter a stfi: 5\n",
      "Enter a tsi: 4\n",
      "Predicted Rct :[ 82.18743003]\n"
     ]
    }
   ],
   "source": [
    "\n",
    "\n",
    "basisweight = float(input('Enter a basisweight: '))\n",
    "caliper = float(input('Enter a caliper: '))\n",
    "cull = float(input('Enter a cull low: '))\n",
    "moisture = float(input('Enter a moisture: '))\n",
    "stfi = float(input('Enter a stfi: '))\n",
    "tsi = float(input('Enter a tsi: '))\n",
    "basismean, basisstd = scaled_features['basisweight']\n",
    "calipermean, caliperstd = scaled_features['caliper']\n",
    "cullmean, cullstd = scaled_features['cull']\n",
    "moisturemean, moisturestd = scaled_features['moisture']\n",
    "stfimean, stfistd = scaled_features['stfi']\n",
    "tsimean, tsistd = scaled_features['tsi']\n",
    "inbasis = (basisweight - basismean)/basisstd\n",
    "incaliper = (caliper - calipermean)/caliperstd\n",
    "incull = (cull - cullmean)/cullstd\n",
    "inmoisture = (moisture - moisturemean)/moisturestd\n",
    "instfi = (stfi - stfimean)/stfistd\n",
    "intsi = (tsi - tsimean)/tsistd\n",
    "row = [intsi, instfi, incaliper, inmoisture, inbasis, incull]\n",
    "columns = ['tsi','stfi', 'caliper', 'moisture', 'basisweight', 'cull']\n",
    "df = pd.DataFrame(columns=columns)\n",
    "'''\n",
    "df['tsi'] = intsi\n",
    "df['stfi'] = instfi\n",
    "df['caliper'] = incaliper\n",
    "df['moisture'] = inmoisture\n",
    "df['basisweight'] = inbasis\n",
    "df['cull'] = incull '''\n",
    "df.loc[1] = row\n",
    "mean, std = scaled_features['rct']\n",
    "prediction = network.run(df.loc[1]).T*std+mean\n",
    "print('Predicted Rct :' + str(prediction))"
   ]
  },
  {
   "cell_type": "code",
   "execution_count": null,
   "metadata": {
    "collapsed": true,
    "deletable": true,
    "editable": true
   },
   "outputs": [],
   "source": []
  },
  {
   "cell_type": "code",
   "execution_count": null,
   "metadata": {
    "collapsed": true,
    "deletable": true,
    "editable": true
   },
   "outputs": [],
   "source": []
  },
  {
   "cell_type": "code",
   "execution_count": null,
   "metadata": {
    "collapsed": true,
    "deletable": true,
    "editable": true
   },
   "outputs": [],
   "source": []
  }
 ],
 "metadata": {
  "kernelspec": {
   "display_name": "Python 3",
   "language": "python",
   "name": "python3"
  },
  "language_info": {
   "codemirror_mode": {
    "name": "ipython",
    "version": 3
   },
   "file_extension": ".py",
   "mimetype": "text/x-python",
   "name": "python",
   "nbconvert_exporter": "python",
   "pygments_lexer": "ipython3",
   "version": "3.5.3"
  }
 },
 "nbformat": 4,
 "nbformat_minor": 2
}
