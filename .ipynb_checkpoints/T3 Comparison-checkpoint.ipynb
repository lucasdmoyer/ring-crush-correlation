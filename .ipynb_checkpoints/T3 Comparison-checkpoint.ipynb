{
 "cells": [
  {
   "cell_type": "code",
   "execution_count": 41,
   "metadata": {
    "collapsed": true,
    "deletable": true,
    "editable": true
   },
   "outputs": [],
   "source": [
    "import numpy as np\n",
    "import pandas as pd\n",
    "import matplotlib.pyplot as plt\n",
    "import pickle"
   ]
  },
  {
   "cell_type": "code",
   "execution_count": 42,
   "metadata": {
    "collapsed": true,
    "deletable": true,
    "editable": true
   },
   "outputs": [],
   "source": [
    "class NeuralNetwork(object):\n",
    "    def __init__(self, input_nodes, hidden_nodes, output_nodes, learning_rate):\n",
    "        # Set number of nodes in input, hidden and output layers.\n",
    "        self.input_nodes = input_nodes\n",
    "        self.hidden_nodes = hidden_nodes\n",
    "        self.output_nodes = output_nodes\n",
    "\n",
    "        # Initialize weights\n",
    "        self.weights_input_to_hidden = np.random.normal(0.0, self.input_nodes**-0.5, \n",
    "                                       (self.input_nodes, self.hidden_nodes))\n",
    "\n",
    "        self.weights_hidden_to_output = np.random.normal(0.0, self.hidden_nodes**-0.5, \n",
    "                                       (self.hidden_nodes, self.output_nodes))\n",
    "        self.lr = learning_rate\n",
    "        \n",
    "        self.activation_function = lambda x : 1/(1 + np.exp(-x))   # Replace 0 with your sigmoid calculation.                  \n",
    "    \n",
    "    def train(self, features, targets):\n",
    "\n",
    "        n_records = features.shape[0]\n",
    "        delta_weights_i_h = np.zeros(self.weights_input_to_hidden.shape)\n",
    "        delta_weights_h_o = np.zeros(self.weights_hidden_to_output.shape)\n",
    "        for X, y in zip(features, targets):\n",
    "            hidden_inputs = np.dot(X,self.weights_input_to_hidden) # signals into hidden layer\n",
    "            hidden_outputs = self.activation_function(hidden_inputs) # signals from hidden layer\n",
    "            \n",
    "            final_inputs = np.dot(hidden_outputs,self.weights_hidden_to_output) # signals into final output layer\n",
    "            final_outputs = final_inputs # signals from final output layer'this\n",
    "\n",
    "            error = y - final_outputs # Output layer error is the difference between desired target and actual output.\n",
    "\n",
    "            \n",
    "            output_error_term = error * 1\n",
    "\n",
    "            hidden_error = np.dot(self.weights_hidden_to_output, error)\n",
    "            hidden_error_term = hidden_error * hidden_outputs * (1- hidden_outputs)\n",
    "            #print('hidden error term: ' + str(hidden_error_term))\n",
    "            \n",
    "            \n",
    "            # Weight step (input to hidden)\n",
    "            delta_weights_i_h += hidden_error_term * X[:,None]\n",
    "            \n",
    "            # Weight step (hidden to output)\n",
    "            hidden_outputs = hidden_outputs[:,None]\n",
    "            delta_weights_h_o += output_error_term * hidden_outputs\n",
    "        self.weights_hidden_to_output += self.lr * delta_weights_h_o/n_records # update hidden-to-output weights with gradient descent step\n",
    "        self.weights_input_to_hidden += self.lr * delta_weights_i_h/n_records # update input-to-hidden weights with gradient descent step\n",
    " \n",
    "    def run(self, features):\n",
    "\n",
    "        hidden_inputs = np.dot(features,self.weights_input_to_hidden) # signals into hidden layer\n",
    "        hidden_outputs = self.activation_function(hidden_inputs) # signals from hidden layer\n",
    "        \n",
    "        final_inputs = np.dot(hidden_outputs,self.weights_hidden_to_output) # signals into final output layer\n",
    "        final_outputs = (final_inputs) # signals from final output layer \n",
    "        \n",
    "        return final_outputs"
   ]
  },
  {
   "cell_type": "code",
   "execution_count": 43,
   "metadata": {
    "collapsed": true,
    "deletable": true,
    "editable": true
   },
   "outputs": [],
   "source": [
    "learning_rate = 0.001\n",
    "hidden_nodes = 3200\n",
    "output_nodes = 1\n",
    "\n",
    "N_i = 6\n",
    "network = NeuralNetwork(N_i, hidden_nodes, output_nodes, learning_rate)"
   ]
  },
  {
   "cell_type": "code",
   "execution_count": 44,
   "metadata": {
    "collapsed": true,
    "deletable": true,
    "editable": true
   },
   "outputs": [],
   "source": [
    "import json\n",
    "\n",
    "weights_in = []\n",
    "with open('t3weight_in_no_grades', 'rb') as f:\n",
    "    weights_in = pickle.load(f)\n",
    "    \n",
    "weights_out = []\n",
    "with open('t3weight_out_no_grades', 'rb') as f:\n",
    "    weights_out = pickle.load(f)\n",
    "scaled_features = {}    \n",
    "with open('t3variables.json', 'r') as f:\n",
    "    try:\n",
    "        scaled_features = json.load(f)\n",
    "    # if the file is empty the ValueError will be thrown\n",
    "    except ValueError:\n",
    "        scaled_features = {}\n",
    "        \n",
    "network.weights_input_to_hidden = weights_in\n",
    "network.weights_hidden_to_output = weights_out"
   ]
  },
  {
   "cell_type": "code",
   "execution_count": 45,
   "metadata": {
    "collapsed": false,
    "deletable": true,
    "editable": true
   },
   "outputs": [
    {
     "data": {
      "text/html": [
       "<div>\n",
       "<table border=\"1\" class=\"dataframe\">\n",
       "  <thead>\n",
       "    <tr style=\"text-align: right;\">\n",
       "      <th></th>\n",
       "      <th>grade</th>\n",
       "      <th>label</th>\n",
       "      <th>rct</th>\n",
       "      <th>tsi</th>\n",
       "      <th>stfi</th>\n",
       "      <th>caliper</th>\n",
       "      <th>moisture</th>\n",
       "      <th>basisweight</th>\n",
       "      <th>cull</th>\n",
       "    </tr>\n",
       "  </thead>\n",
       "  <tbody>\n",
       "    <tr>\n",
       "      <th>0</th>\n",
       "      <td>NL050550</td>\n",
       "      <td>4/16/2017 2:36</td>\n",
       "      <td>123</td>\n",
       "      <td>4.88</td>\n",
       "      <td>NaN</td>\n",
       "      <td>15.56</td>\n",
       "      <td>0</td>\n",
       "      <td>0.0</td>\n",
       "      <td>119.5</td>\n",
       "    </tr>\n",
       "    <tr>\n",
       "      <th>1</th>\n",
       "      <td>NL050550</td>\n",
       "      <td>4/16/2017 4:09</td>\n",
       "      <td>127</td>\n",
       "      <td>5.15</td>\n",
       "      <td>NaN</td>\n",
       "      <td>15.56</td>\n",
       "      <td>0</td>\n",
       "      <td>0.0</td>\n",
       "      <td>119.5</td>\n",
       "    </tr>\n",
       "    <tr>\n",
       "      <th>2</th>\n",
       "      <td>NL250740</td>\n",
       "      <td>1/7/2017 15:55</td>\n",
       "      <td>151</td>\n",
       "      <td>4.53</td>\n",
       "      <td>NaN</td>\n",
       "      <td>19.24</td>\n",
       "      <td>0</td>\n",
       "      <td>0.0</td>\n",
       "      <td>149.5</td>\n",
       "    </tr>\n",
       "    <tr>\n",
       "      <th>3</th>\n",
       "      <td>NL110550</td>\n",
       "      <td>2/19/2017 16:20</td>\n",
       "      <td>121</td>\n",
       "      <td>4.53</td>\n",
       "      <td>18.1</td>\n",
       "      <td>9.38</td>\n",
       "      <td>6.21</td>\n",
       "      <td>0.0</td>\n",
       "      <td>119.5</td>\n",
       "    </tr>\n",
       "    <tr>\n",
       "      <th>4</th>\n",
       "      <td>NL050550</td>\n",
       "      <td>4/16/2017 0:59</td>\n",
       "      <td>123</td>\n",
       "      <td>#DIV/0!</td>\n",
       "      <td>NaN</td>\n",
       "      <td>15.67</td>\n",
       "      <td>#DIV/0!</td>\n",
       "      <td>0.0</td>\n",
       "      <td>119.5</td>\n",
       "    </tr>\n",
       "  </tbody>\n",
       "</table>\n",
       "</div>"
      ],
      "text/plain": [
       "      grade            label  rct      tsi  stfi  caliper moisture  \\\n",
       "0  NL050550   4/16/2017 2:36  123     4.88   NaN    15.56        0   \n",
       "1  NL050550   4/16/2017 4:09  127     5.15   NaN    15.56        0   \n",
       "2  NL250740   1/7/2017 15:55  151     4.53   NaN    19.24        0   \n",
       "3  NL110550  2/19/2017 16:20  121     4.53  18.1     9.38     6.21   \n",
       "4  NL050550   4/16/2017 0:59  123  #DIV/0!   NaN    15.67  #DIV/0!   \n",
       "\n",
       "   basisweight   cull  \n",
       "0          0.0  119.5  \n",
       "1          0.0  119.5  \n",
       "2          0.0  149.5  \n",
       "3          0.0  119.5  \n",
       "4          0.0  119.5  "
      ]
     },
     "execution_count": 45,
     "metadata": {},
     "output_type": "execute_result"
    }
   ],
   "source": [
    "data_path = 't3rct.csv'\n",
    "df = pd.read_csv(data_path)\n",
    "df.head()"
   ]
  },
  {
   "cell_type": "code",
   "execution_count": 46,
   "metadata": {
    "collapsed": false,
    "deletable": true,
    "editable": true
   },
   "outputs": [],
   "source": [
    "# drops weird moisture values\n",
    "df['tsi'] = df['tsi'].astype(str)\n",
    "df['stfi'] = df['stfi'].astype(str)\n",
    "df['moisture'] = df['moisture'].astype(str)\n",
    "df['rct'] = df['rct'].astype(str)\n",
    "df['caliper'] = df['caliper'].astype(str)\n",
    "df['basisweight'] = df['basisweight'].astype(str)\n",
    "df['cull'] = df['cull'].astype(str)\n",
    "df = df[df.moisture.str.contains('#DIV/0!') == False]\n",
    "df = df[df.tsi.str.contains('#DIV/0!') == False]\n",
    "df = df[df.stfi.str.contains('#DIV/0!') == False]\n",
    "df = df[df.rct.str.contains('#DIV/0!') == False]\n",
    "df = df[df.caliper.str.contains('#DIV/0!') == False]\n",
    "df = df[df.basisweight.str.contains('#DIV/0!') == False]\n",
    "df = df[df.cull.str.contains('#DIV/0!') == False]\n",
    "df = df[df.stfi.str.contains('nan') == False]\n",
    "# drops empty and 0 value rows\n",
    "df = df.loc[(df != 0).all(axis=1), :]\n"
   ]
  },
  {
   "cell_type": "code",
   "execution_count": 47,
   "metadata": {
    "collapsed": true
   },
   "outputs": [],
   "source": [
    "df['tsi'] = df['tsi'].astype(float)\n",
    "df['moisture'] = df['moisture'].astype(float)\n",
    "df['stfi'] = df['stfi'].astype(float)\n",
    "df['cull'] = df['cull'].astype(float)\n",
    "df['basisweight'] = df['basisweight'].astype(float)\n",
    "df['caliper'] = df['caliper'].astype(float)\n",
    "df['rct'] = df['rct'].astype(float)\n"
   ]
  },
  {
   "cell_type": "code",
   "execution_count": 48,
   "metadata": {
    "collapsed": false,
    "deletable": true,
    "editable": true
   },
   "outputs": [],
   "source": [
    "# make binary numbers for grades\n",
    "'''\n",
    "dummy_fields = ['grade']\n",
    "for each in dummy_fields:\n",
    "    dummies = pd.get_dummies(df[each], prefix=each, drop_first=False)\n",
    "    df = pd.concat([df, dummies], axis=1)\n",
    "'''\n",
    "\n",
    "fields_to_drop = ['label', 'grade']\n",
    "data = df.drop(fields_to_drop, axis=1)"
   ]
  },
  {
   "cell_type": "code",
   "execution_count": 50,
   "metadata": {
    "collapsed": false,
    "deletable": true,
    "editable": true
   },
   "outputs": [],
   "source": [
    "quant_features = ['rct','tsi', 'stfi', 'caliper','moisture','basisweight', 'cull']\n",
    "# Store scalings in a dictionary so we can convert back later\n",
    "scaled_features = {}\n",
    "for each in quant_features:\n",
    "    mean, std = (data[each]).mean(), data[each].std()\n",
    "    scaled_features[each] = [mean, std]\n",
    "    data.loc[:, each] = (data[each] - mean)/std\n",
    "    \n",
    "test_data = data[1000:]\n",
    "\n",
    "data = data[:1000]\n",
    "\n",
    "target_fields = ['rct']\n",
    "features, targets = data.drop(target_fields, axis=1), data[target_fields]\n",
    "test_features, test_targets = test_data.drop(target_fields, axis=1), test_data[target_fields]"
   ]
  },
  {
   "cell_type": "code",
   "execution_count": 51,
   "metadata": {
    "collapsed": false,
    "deletable": true,
    "editable": true
   },
   "outputs": [],
   "source": [
    "mean, std = scaled_features['rct']\n",
    "xs = []\n",
    "ys = []\n",
    "\n",
    "testFeatures = features.reset_index(drop=True)\n",
    "testTargets = targets.reset_index(drop=True)\n",
    "\n",
    "for index, row in features.iterrows():\n",
    "    #print(row)\n",
    "    prediction = network.run(row).T*std+mean\n",
    "    xs.append(prediction[0])\n",
    "\n",
    "\n",
    "ys = targets['rct'].T*std+mean\n",
    "data['rct'] = ys\n",
    "data['prediction'] = xs"
   ]
  },
  {
   "cell_type": "code",
   "execution_count": 52,
   "metadata": {
    "collapsed": false,
    "deletable": true,
    "editable": true
   },
   "outputs": [],
   "source": [
    "data.to_csv('t3comparison.csv')"
   ]
  },
  {
   "cell_type": "code",
   "execution_count": null,
   "metadata": {
    "collapsed": true,
    "deletable": true,
    "editable": true
   },
   "outputs": [],
   "source": []
  }
 ],
 "metadata": {
  "kernelspec": {
   "display_name": "Python 3",
   "language": "python",
   "name": "python3"
  },
  "language_info": {
   "codemirror_mode": {
    "name": "ipython",
    "version": 3
   },
   "file_extension": ".py",
   "mimetype": "text/x-python",
   "name": "python",
   "nbconvert_exporter": "python",
   "pygments_lexer": "ipython3",
   "version": "3.5.3"
  }
 },
 "nbformat": 4,
 "nbformat_minor": 2
}
