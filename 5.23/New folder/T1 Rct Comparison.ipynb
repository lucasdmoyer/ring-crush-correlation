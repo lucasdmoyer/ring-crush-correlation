{
 "cells": [
  {
   "cell_type": "code",
   "execution_count": 130,
   "metadata": {
    "collapsed": true,
    "deletable": true,
    "editable": true
   },
   "outputs": [],
   "source": [
    "\n",
    "import numpy as np\n",
    "import pandas as pd\n",
    "import matplotlib.pyplot as plt\n",
    "import pickle"
   ]
  },
  {
   "cell_type": "code",
   "execution_count": 131,
   "metadata": {
    "collapsed": true,
    "deletable": true,
    "editable": true
   },
   "outputs": [],
   "source": [
    "class NeuralNetwork(object):\n",
    "    def __init__(self, input_nodes, hidden_nodes, output_nodes, learning_rate):\n",
    "        # Set number of nodes in input, hidden and output layers.\n",
    "        self.input_nodes = input_nodes\n",
    "        self.hidden_nodes = hidden_nodes\n",
    "        self.output_nodes = output_nodes\n",
    "\n",
    "        # Initialize weights\n",
    "        self.weights_input_to_hidden = np.random.normal(0.0, self.input_nodes**-0.5, \n",
    "                                       (self.input_nodes, self.hidden_nodes))\n",
    "\n",
    "        self.weights_hidden_to_output = np.random.normal(0.0, self.hidden_nodes**-0.5, \n",
    "                                       (self.hidden_nodes, self.output_nodes))\n",
    "        self.lr = learning_rate\n",
    "        \n",
    "        self.activation_function = lambda x : 1/(1 + np.exp(-x))   # Replace 0 with your sigmoid calculation.\n",
    "        \n",
    "                    \n",
    "    \n",
    "    def train(self, features, targets):\n",
    "        ''' Train the network on batch of features and targets. \n",
    "        \n",
    "            Arguments\n",
    "            ---------\n",
    "            \n",
    "            features: 2D array, each row is one data record, each column is a feature\n",
    "            targets: 1D array of target values\n",
    "        \n",
    "        '''\n",
    "        n_records = features.shape[0]\n",
    "        delta_weights_i_h = np.zeros(self.weights_input_to_hidden.shape)\n",
    "        delta_weights_h_o = np.zeros(self.weights_hidden_to_output.shape)\n",
    "        for X, y in zip(features, targets):\n",
    "            hidden_inputs = np.dot(X,self.weights_input_to_hidden) # signals into hidden layer\n",
    "            hidden_outputs = self.activation_function(hidden_inputs) # signals from hidden layer\n",
    "            \n",
    "            final_inputs = np.dot(hidden_outputs,self.weights_hidden_to_output) # signals into final output layer\n",
    "            final_outputs = final_inputs # signals from final output layer'this\n",
    "            \n",
    "            #### Implement the backward pass here ####\n",
    "            ### Backward pass ###\n",
    "\n",
    "            error = y - final_outputs # Output layer error is the difference between desired target and actual output.\n",
    "\n",
    "            \n",
    "            output_error_term = error * 1\n",
    "\n",
    "            #hidden_error = hidden_outputs * (1 - hidden_outputs)\n",
    "            #hidden_error_term = np.dot(hidden_error, self.weights_hidden_to_output) * output_error_term\n",
    "            hidden_error = np.dot(self.weights_hidden_to_output, error)\n",
    "            hidden_error_term = hidden_error * hidden_outputs * (1- hidden_outputs)\n",
    "            #print('hidden error term: ' + str(hidden_error_term))\n",
    "            \n",
    "            \n",
    "            # Weight step (input to hidden)\n",
    "            delta_weights_i_h += hidden_error_term * X[:,None]\n",
    "            #print('delta in to hidden: ' + str(delta_weights_i_h))\n",
    "            \n",
    "            \n",
    "            # Weight step (hidden to output)\n",
    "            hidden_outputs = hidden_outputs[:,None]\n",
    "            delta_weights_h_o += output_error_term * hidden_outputs\n",
    "            #print('delta hidden to out: ' + str(delta_weights_h_o))\n",
    "        self.weights_hidden_to_output += self.lr * delta_weights_h_o/n_records # update hidden-to-output weights with gradient descent step\n",
    "        self.weights_input_to_hidden += self.lr * delta_weights_i_h/n_records # update input-to-hidden weights with gradient descent step\n",
    " \n",
    "    def run(self, features):\n",
    "\n",
    "        hidden_inputs = np.dot(features,self.weights_input_to_hidden) # signals into hidden layer\n",
    "        hidden_outputs = self.activation_function(hidden_inputs) # signals from hidden layer\n",
    "        \n",
    "        final_inputs = np.dot(hidden_outputs,self.weights_hidden_to_output) # signals into final output layer\n",
    "        final_outputs = (final_inputs) # signals from final output layer \n",
    "        \n",
    "        return final_outputs\n"
   ]
  },
  {
   "cell_type": "code",
   "execution_count": 132,
   "metadata": {
    "collapsed": true,
    "deletable": true,
    "editable": true
   },
   "outputs": [],
   "source": [
    "learning_rate = 0.0004\n",
    "hidden_nodes = 1800\n",
    "output_nodes = 1\n",
    "\n",
    "N_i = 6\n",
    "network = NeuralNetwork(N_i, hidden_nodes, output_nodes, learning_rate)"
   ]
  },
  {
   "cell_type": "code",
   "execution_count": 133,
   "metadata": {
    "collapsed": true,
    "deletable": true,
    "editable": true
   },
   "outputs": [],
   "source": [
    "import json\n",
    "\n",
    "weights_in = []\n",
    "with open('weight_in1_grades', 'rb') as f:\n",
    "    weights_in = pickle.load(f)\n",
    "    \n",
    "weights_out = []\n",
    "with open('weight_out1_grades', 'rb') as f:\n",
    "    weights_out = pickle.load(f)\n",
    "    \n",
    "with open('variables.json', 'r') as f:\n",
    "    try:\n",
    "        scaled_features = json.load(f)\n",
    "    # if the file is empty the ValueError will be thrown\n",
    "    except ValueError:\n",
    "        scaled_features = {}"
   ]
  },
  {
   "cell_type": "code",
   "execution_count": 114,
   "metadata": {
    "collapsed": true,
    "deletable": true,
    "editable": true
   },
   "outputs": [],
   "source": [
    "network.weights_input_to_hidden = weights_in\n",
    "network.weights_hidden_to_output = weights_out\n"
   ]
  },
  {
   "cell_type": "code",
   "execution_count": 115,
   "metadata": {
    "collapsed": true,
    "deletable": true,
    "editable": true
   },
   "outputs": [],
   "source": [
    "#scaled_features"
   ]
  },
  {
   "cell_type": "code",
   "execution_count": 123,
   "metadata": {
    "collapsed": false,
    "deletable": true,
    "editable": true
   },
   "outputs": [
    {
     "data": {
      "text/html": [
       "<div>\n",
       "<style>\n",
       "    .dataframe thead tr:only-child th {\n",
       "        text-align: right;\n",
       "    }\n",
       "\n",
       "    .dataframe thead th {\n",
       "        text-align: left;\n",
       "    }\n",
       "\n",
       "    .dataframe tbody tr th {\n",
       "        vertical-align: top;\n",
       "    }\n",
       "</style>\n",
       "<table border=\"1\" class=\"dataframe\">\n",
       "  <thead>\n",
       "    <tr style=\"text-align: right;\">\n",
       "      <th></th>\n",
       "      <th>grade</th>\n",
       "      <th>label</th>\n",
       "      <th>rct</th>\n",
       "      <th>tsi</th>\n",
       "      <th>stfi</th>\n",
       "      <th>caliper</th>\n",
       "      <th>moisture</th>\n",
       "      <th>basisweight</th>\n",
       "      <th>cull</th>\n",
       "    </tr>\n",
       "  </thead>\n",
       "  <tbody>\n",
       "    <tr>\n",
       "      <th>0</th>\n",
       "      <td>NL050550</td>\n",
       "      <td>4/16/2017 2:36</td>\n",
       "      <td>123.0</td>\n",
       "      <td>4.88</td>\n",
       "      <td>NaN</td>\n",
       "      <td>15.56</td>\n",
       "      <td>0.00</td>\n",
       "      <td>0.0</td>\n",
       "      <td>119.5</td>\n",
       "    </tr>\n",
       "    <tr>\n",
       "      <th>1</th>\n",
       "      <td>NL050550</td>\n",
       "      <td>4/16/2017 4:09</td>\n",
       "      <td>127.0</td>\n",
       "      <td>5.15</td>\n",
       "      <td>NaN</td>\n",
       "      <td>15.56</td>\n",
       "      <td>0.00</td>\n",
       "      <td>0.0</td>\n",
       "      <td>119.5</td>\n",
       "    </tr>\n",
       "    <tr>\n",
       "      <th>2</th>\n",
       "      <td>NL250740</td>\n",
       "      <td>1/7/2017 15:55</td>\n",
       "      <td>151.0</td>\n",
       "      <td>4.53</td>\n",
       "      <td>NaN</td>\n",
       "      <td>19.24</td>\n",
       "      <td>0.00</td>\n",
       "      <td>0.0</td>\n",
       "      <td>149.5</td>\n",
       "    </tr>\n",
       "    <tr>\n",
       "      <th>3</th>\n",
       "      <td>NL110550</td>\n",
       "      <td>2/19/2017 16:20</td>\n",
       "      <td>121.0</td>\n",
       "      <td>4.53</td>\n",
       "      <td>18.1</td>\n",
       "      <td>9.38</td>\n",
       "      <td>6.21</td>\n",
       "      <td>0.0</td>\n",
       "      <td>119.5</td>\n",
       "    </tr>\n",
       "    <tr>\n",
       "      <th>4</th>\n",
       "      <td>NL050550</td>\n",
       "      <td>4/16/2017 0:59</td>\n",
       "      <td>123.0</td>\n",
       "      <td>#DIV/0!</td>\n",
       "      <td>NaN</td>\n",
       "      <td>15.67</td>\n",
       "      <td>#DIV/0!</td>\n",
       "      <td>0.0</td>\n",
       "      <td>119.5</td>\n",
       "    </tr>\n",
       "  </tbody>\n",
       "</table>\n",
       "</div>"
      ],
      "text/plain": [
       "      grade            label    rct      tsi  stfi  caliper moisture  \\\n",
       "0  NL050550   4/16/2017 2:36  123.0     4.88   NaN    15.56     0.00   \n",
       "1  NL050550   4/16/2017 4:09  127.0     5.15   NaN    15.56     0.00   \n",
       "2  NL250740   1/7/2017 15:55  151.0     4.53   NaN    19.24     0.00   \n",
       "3  NL110550  2/19/2017 16:20  121.0     4.53  18.1     9.38     6.21   \n",
       "4  NL050550   4/16/2017 0:59  123.0  #DIV/0!   NaN    15.67  #DIV/0!   \n",
       "\n",
       "   basisweight   cull  \n",
       "0          0.0  119.5  \n",
       "1          0.0  119.5  \n",
       "2          0.0  149.5  \n",
       "3          0.0  119.5  \n",
       "4          0.0  119.5  "
      ]
     },
     "execution_count": 123,
     "metadata": {},
     "output_type": "execute_result"
    }
   ],
   "source": [
    "data_path = 'rct.csv'\n",
    "df = pd.read_csv(data_path)\n",
    "df.head()"
   ]
  },
  {
   "cell_type": "markdown",
   "metadata": {
    "deletable": true,
    "editable": true
   },
   "source": []
  },
  {
   "cell_type": "code",
   "execution_count": 124,
   "metadata": {
    "collapsed": false,
    "deletable": true,
    "editable": true
   },
   "outputs": [
    {
     "data": {
      "text/html": [
       "<div>\n",
       "<style>\n",
       "    .dataframe thead tr:only-child th {\n",
       "        text-align: right;\n",
       "    }\n",
       "\n",
       "    .dataframe thead th {\n",
       "        text-align: left;\n",
       "    }\n",
       "\n",
       "    .dataframe tbody tr th {\n",
       "        vertical-align: top;\n",
       "    }\n",
       "</style>\n",
       "<table border=\"1\" class=\"dataframe\">\n",
       "  <thead>\n",
       "    <tr style=\"text-align: right;\">\n",
       "      <th></th>\n",
       "      <th>grade</th>\n",
       "      <th>label</th>\n",
       "      <th>rct</th>\n",
       "      <th>tsi</th>\n",
       "      <th>stfi</th>\n",
       "      <th>caliper</th>\n",
       "      <th>moisture</th>\n",
       "      <th>basisweight</th>\n",
       "      <th>cull</th>\n",
       "    </tr>\n",
       "  </thead>\n",
       "  <tbody>\n",
       "    <tr>\n",
       "      <th>3</th>\n",
       "      <td>NL110550</td>\n",
       "      <td>2/19/2017 16:20</td>\n",
       "      <td>121.0</td>\n",
       "      <td>4.53</td>\n",
       "      <td>18.10</td>\n",
       "      <td>9.38</td>\n",
       "      <td>6.21</td>\n",
       "      <td>0.00</td>\n",
       "      <td>119.5</td>\n",
       "    </tr>\n",
       "    <tr>\n",
       "      <th>179</th>\n",
       "      <td>NL110550</td>\n",
       "      <td>3/28/2017 3:17</td>\n",
       "      <td>125.0</td>\n",
       "      <td>4.90</td>\n",
       "      <td>26.95</td>\n",
       "      <td>15.30</td>\n",
       "      <td>6.07</td>\n",
       "      <td>51.63</td>\n",
       "      <td>119.5</td>\n",
       "    </tr>\n",
       "    <tr>\n",
       "      <th>206</th>\n",
       "      <td>NL110550</td>\n",
       "      <td>1/4/2017 15:36</td>\n",
       "      <td>129.0</td>\n",
       "      <td>4.89</td>\n",
       "      <td>23.08</td>\n",
       "      <td>14.92</td>\n",
       "      <td>6.49</td>\n",
       "      <td>51.84</td>\n",
       "      <td>119.5</td>\n",
       "    </tr>\n",
       "    <tr>\n",
       "      <th>234</th>\n",
       "      <td>NL110550</td>\n",
       "      <td>3/8/2017 16:31</td>\n",
       "      <td>123.0</td>\n",
       "      <td>4.89</td>\n",
       "      <td>27.33</td>\n",
       "      <td>15.42</td>\n",
       "      <td>6.14</td>\n",
       "      <td>51.94</td>\n",
       "      <td>119.5</td>\n",
       "    </tr>\n",
       "    <tr>\n",
       "      <th>276</th>\n",
       "      <td>NL110550</td>\n",
       "      <td>3/5/2017 1:27</td>\n",
       "      <td>129.0</td>\n",
       "      <td>5.27</td>\n",
       "      <td>28.32</td>\n",
       "      <td>15.37</td>\n",
       "      <td>6.25</td>\n",
       "      <td>52.10</td>\n",
       "      <td>119.5</td>\n",
       "    </tr>\n",
       "  </tbody>\n",
       "</table>\n",
       "</div>"
      ],
      "text/plain": [
       "        grade            label    rct   tsi   stfi  caliper moisture  \\\n",
       "3    NL110550  2/19/2017 16:20  121.0  4.53  18.10     9.38     6.21   \n",
       "179  NL110550   3/28/2017 3:17  125.0  4.90  26.95    15.30     6.07   \n",
       "206  NL110550   1/4/2017 15:36  129.0  4.89  23.08    14.92     6.49   \n",
       "234  NL110550   3/8/2017 16:31  123.0  4.89  27.33    15.42     6.14   \n",
       "276  NL110550    3/5/2017 1:27  129.0  5.27  28.32    15.37     6.25   \n",
       "\n",
       "     basisweight   cull  \n",
       "3           0.00  119.5  \n",
       "179        51.63  119.5  \n",
       "206        51.84  119.5  \n",
       "234        51.94  119.5  \n",
       "276        52.10  119.5  "
      ]
     },
     "execution_count": 124,
     "metadata": {},
     "output_type": "execute_result"
    }
   ],
   "source": [
    "# drops weird moisture values\n",
    "df = df[df.moisture.str.contains('#DIV/0!') == False]\n",
    "df = df[df.tsi.str.contains('#DIV/0!') == False]\n",
    "# drops empty and 0 value rows\n",
    "df = df[np.isfinite(df['stfi'])]\n",
    "\n"
   ]
  },
  {
   "cell_type": "code",
   "execution_count": 125,
   "metadata": {
    "collapsed": true,
    "deletable": true,
    "editable": true
   },
   "outputs": [],
   "source": [
    "df['tsi'] = df['tsi'].astype(float)\n",
    "df['moisture'] = df['moisture'].astype(float)\n",
    "df['cull'] = df['cull'].astype(float)"
   ]
  },
  {
   "cell_type": "code",
   "execution_count": 126,
   "metadata": {
    "collapsed": false,
    "deletable": true,
    "editable": true
   },
   "outputs": [
    {
     "data": {
      "text/plain": [
       "34"
      ]
     },
     "execution_count": 126,
     "metadata": {},
     "output_type": "execute_result"
    }
   ],
   "source": [
    "\n",
    "dummy_fields = ['grade']\n",
    "for each in dummy_fields:\n",
    "    dummies = pd.get_dummies(df[each], prefix=each, drop_first=False)\n",
    "    df = pd.concat([df, dummies], axis=1)\n",
    "\n",
    "\n",
    "fields_to_drop = ['label', 'grade']\n",
    "data = df.drop(fields_to_drop, axis=1)\n",
    "data.head()"
   ]
  },
  {
   "cell_type": "code",
   "execution_count": 127,
   "metadata": {
    "collapsed": true,
    "deletable": true,
    "editable": true
   },
   "outputs": [],
   "source": [
    "quant_features = ['rct','tsi', 'stfi', 'caliper','moisture','basisweight', 'cull']\n",
    "# Store scalings in a dictionary so we can convert back later\n",
    "scaled_features = {}\n",
    "for each in quant_features:\n",
    "    mean, std = (data[each]).mean(), data[each].std()\n",
    "    scaled_features[each] = [mean, std]\n",
    "    data.loc[:, each] = (data[each] - mean)/std\n",
    "\n",
    "\n",
    "target_fields = ['rct']\n",
    "features, targets = data.drop(target_fields, axis=1), data[target_fields]\n",
    "test_features, test_targets = data.drop(target_fields, axis=1), data[target_fields]\n",
    "\n",
    "train_features, train_targets = features, targets\n",
    "val_features, val_targets = features[200:], targets[200:]"
   ]
  },
  {
   "cell_type": "code",
   "execution_count": 128,
   "metadata": {
    "collapsed": true,
    "deletable": true,
    "editable": true
   },
   "outputs": [],
   "source": [
    "mean, std = scaled_features['rct']\n",
    "xs = []\n",
    "ys = []\n",
    "value = []\n",
    "testFeatures = features.reset_index(drop=True)\n",
    "testTargets = targets.reset_index(drop=True)\n",
    "\n",
    "for index, row in testFeatures.iterrows():\n",
    "    #print(row)\n",
    "    prediction = network.run(row).T*std+mean\n",
    "    xs.append(prediction[0])\n",
    "\n",
    "\n",
    "ys = testTargets['rct'].T*std+mean\n",
    "data['rct'] = ys\n",
    "data['prediction'] = xs"
   ]
  },
  {
   "cell_type": "code",
   "execution_count": 129,
   "metadata": {
    "collapsed": true,
    "deletable": true,
    "editable": true
   },
   "outputs": [],
   "source": [
    "data.to_csv('t1predic_grades.csv')"
   ]
  },
  {
   "cell_type": "code",
   "execution_count": null,
   "metadata": {
    "collapsed": true,
    "deletable": true,
    "editable": true
   },
   "outputs": [],
   "source": []
  }
 ],
 "metadata": {
  "kernelspec": {
   "display_name": "Python 3",
   "language": "python",
   "name": "python3"
  },
  "language_info": {
   "codemirror_mode": {
    "name": "ipython",
    "version": 3
   },
   "file_extension": ".py",
   "mimetype": "text/x-python",
   "name": "python",
   "nbconvert_exporter": "python",
   "pygments_lexer": "ipython3",
   "version": "3.5.3"
  }
 },
 "nbformat": 4,
 "nbformat_minor": 2
}
